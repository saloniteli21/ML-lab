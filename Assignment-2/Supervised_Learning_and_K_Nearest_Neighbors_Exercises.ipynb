{
 "cells": [
  {
   "cell_type": "markdown",
   "metadata": {},
   "source": [
    "# Supervised Learning and K Nearest Neighbors Exercises\n",
    "\n",
    "![knn.png](Assets/knn.png)"
   ]
  },
  {
   "cell_type": "markdown",
   "metadata": {},
   "source": [
    "# Learning Objectives:\n",
    "\n",
    "- Explain supervised learning and how it can be applied to regression and classification problems\n",
    "- Apply K-Nearest Neighbor (KNN) algorithm for classification\n",
    "- Apply Intel® Extension for Scikit-learn* to leverage underlying compute capabilities of hardware\n",
    "\n",
    "\n",
    "\n",
    "# scikit-learn* \n",
    "\n",
    "Frameworks provide structure that Data Scientists use to build code. Frameworks are more than just libraries, because in addition to callable code, frameworks influence how code is written. \n",
    "\n",
    "A main virtue of using an optimized framework is that code runs faster. Code that runs faster is just generally more convenient but when we begin looking at applied data science and AI models, we can see more material benefits. Here you will see how optimization, particularly hyperparameter optimization can benefit more than just speed. \n",
    "\n",
    "These exercises will demonstrate how to apply **the Intel® Extension for Scikit-learn*,** a seamless way to speed up your Scikit-learn application. The acceleration is achieved through the use of the Intel® oneAPI Data Analytics Library (oneDAL). Patching is the term used to extend scikit-learn with Intel optimizations and makes it a well-suited machine learning framework for dealing with real-life problems. \n",
    "\n",
    "To get optimized versions of many Scikit-learn algorithms using a patch() approach consisting of adding these lines of code Prior to importing sklearn: \n",
    "\n",
    "- **from sklearnex import patch_sklearn**\n",
    "- **patch_sklearn()**\n",
    "\n",
    "## This exercise relies on installation of  Intel® Extension for Scikit-learn*\n",
    "\n",
    "If you have not already done so, follow the instructions from Week 1 for instructions\n",
    "\n",
    "\n",
    "\n"
   ]
  },
  {
   "cell_type": "code",
   "execution_count": 1,
   "metadata": {
    "ExecuteTime": {
     "end_time": "2024-02-20T04:45:00.256340300Z",
     "start_time": "2024-02-20T04:44:59.152629200Z"
    }
   },
   "outputs": [
    {
     "name": "stderr",
     "output_type": "stream",
     "text": [
      "Intel(R) Extension for Scikit-learn* enabled (https://github.com/intel/scikit-learn-intelex)\n"
     ]
    }
   ],
   "source": [
    "from __future__ import print_function\n",
    "import os\n",
    "data_path = ['../data']\n",
    "\n",
    "from sklearnex import patch_sklearn\n",
    "patch_sklearn()  # patch should be called PRIOR to importing Scikit-learn algorithms\n",
    "\n",
    "from sklearn.preprocessing import LabelBinarizer\n",
    "from sklearn.preprocessing import MinMaxScaler\n",
    "from sklearn.neighbors import KNeighborsClassifier\n",
    "import numpy as np\n",
    "import pandas as pd"
   ]
  },
  {
   "cell_type": "markdown",
   "metadata": {},
   "source": [
    "## Question 1\n",
    "\n",
    "* Begin by importing the data. Examine the columns and data.\n",
    "* Notice that the data contains a state, area code, and phone number. Do you think these are good features to use when building a machine learning model? Why or why not? \n",
    "\n",
    "We will not be using them, so they can be dropped from the data."
   ]
  },
  {
   "cell_type": "code",
   "execution_count": 2,
   "metadata": {
    "ExecuteTime": {
     "end_time": "2024-02-20T04:45:00.273540600Z",
     "start_time": "2024-02-20T04:45:00.258342400Z"
    },
    "collapsed": false
   },
   "outputs": [
    {
     "name": "stdout",
     "output_type": "stream",
     "text": [
      "Columns in the dataset:\n",
      "Index(['state', 'account_length', 'area_code', 'phone_number', 'intl_plan',\n",
      "       'voice_mail_plan', 'number_vmail_messages', 'total_day_minutes',\n",
      "       'total_day_calls', 'total_day_charge', 'total_eve_minutes',\n",
      "       'total_eve_calls', 'total_eve_charge', 'total_night_minutes',\n",
      "       'total_night_calls', 'total_night_charge', 'total_intl_minutes',\n",
      "       'total_intl_calls', 'total_intl_charge',\n",
      "       'number_customer_service_calls', 'churned'],\n",
      "      dtype='object')\n"
     ]
    }
   ],
   "source": [
    "df = pd.read_csv('resources/Orange_Telecom_Churn_Data.csv')\n",
    "\n",
    "print(\"Columns in the dataset:\")\n",
    "print(df.columns)"
   ]
  },
  {
   "cell_type": "code",
   "execution_count": 3,
   "metadata": {
    "ExecuteTime": {
     "end_time": "2024-02-20T04:45:00.312537600Z",
     "start_time": "2024-02-20T04:45:00.274537300Z"
    },
    "collapsed": false
   },
   "outputs": [
    {
     "name": "stdout",
     "output_type": "stream",
     "text": [
      "\n",
      "First few rows of the dataset:\n",
      "  state  account_length  area_code phone_number intl_plan voice_mail_plan  \\\n",
      "0    KS             128        415     382-4657        no             yes   \n",
      "1    OH             107        415     371-7191        no             yes   \n",
      "2    NJ             137        415     358-1921        no              no   \n",
      "3    OH              84        408     375-9999       yes              no   \n",
      "4    OK              75        415     330-6626       yes              no   \n",
      "\n",
      "   number_vmail_messages  total_day_minutes  total_day_calls  \\\n",
      "0                     25              265.1              110   \n",
      "1                     26              161.6              123   \n",
      "2                      0              243.4              114   \n",
      "3                      0              299.4               71   \n",
      "4                      0              166.7              113   \n",
      "\n",
      "   total_day_charge  ...  total_eve_calls  total_eve_charge  \\\n",
      "0             45.07  ...               99             16.78   \n",
      "1             27.47  ...              103             16.62   \n",
      "2             41.38  ...              110             10.30   \n",
      "3             50.90  ...               88              5.26   \n",
      "4             28.34  ...              122             12.61   \n",
      "\n",
      "   total_night_minutes  total_night_calls  total_night_charge  \\\n",
      "0                244.7                 91               11.01   \n",
      "1                254.4                103               11.45   \n",
      "2                162.6                104                7.32   \n",
      "3                196.9                 89                8.86   \n",
      "4                186.9                121                8.41   \n",
      "\n",
      "   total_intl_minutes  total_intl_calls  total_intl_charge  \\\n",
      "0                10.0                 3               2.70   \n",
      "1                13.7                 3               3.70   \n",
      "2                12.2                 5               3.29   \n",
      "3                 6.6                 7               1.78   \n",
      "4                10.1                 3               2.73   \n",
      "\n",
      "   number_customer_service_calls  churned  \n",
      "0                              1    False  \n",
      "1                              1    False  \n",
      "2                              0    False  \n",
      "3                              2    False  \n",
      "4                              3    False  \n",
      "\n",
      "[5 rows x 21 columns]\n"
     ]
    }
   ],
   "source": [
    "print(\"\\nFirst few rows of the dataset:\")\n",
    "print(df.head())"
   ]
  },
  {
   "cell_type": "code",
   "execution_count": 4,
   "metadata": {
    "ExecuteTime": {
     "end_time": "2024-02-20T04:45:00.313537100Z",
     "start_time": "2024-02-20T04:45:00.284413500Z"
    },
    "collapsed": false
   },
   "outputs": [],
   "source": [
    "columns_to_drop = ['state', 'area_code', 'phone_number']\n",
    "df = df.drop(columns=columns_to_drop)"
   ]
  },
  {
   "cell_type": "code",
   "execution_count": 5,
   "metadata": {
    "ExecuteTime": {
     "end_time": "2024-02-20T04:45:00.317520400Z",
     "start_time": "2024-02-20T04:45:00.289555300Z"
    },
    "collapsed": false
   },
   "outputs": [
    {
     "name": "stdout",
     "output_type": "stream",
     "text": [
      "\n",
      "Dataset after dropping 'state', 'area_code', and 'phone_number' columns:\n",
      "   account_length intl_plan voice_mail_plan  number_vmail_messages  \\\n",
      "0             128        no             yes                     25   \n",
      "1             107        no             yes                     26   \n",
      "2             137        no              no                      0   \n",
      "3              84       yes              no                      0   \n",
      "4              75       yes              no                      0   \n",
      "\n",
      "   total_day_minutes  total_day_calls  total_day_charge  total_eve_minutes  \\\n",
      "0              265.1              110             45.07              197.4   \n",
      "1              161.6              123             27.47              195.5   \n",
      "2              243.4              114             41.38              121.2   \n",
      "3              299.4               71             50.90               61.9   \n",
      "4              166.7              113             28.34              148.3   \n",
      "\n",
      "   total_eve_calls  total_eve_charge  total_night_minutes  total_night_calls  \\\n",
      "0               99             16.78                244.7                 91   \n",
      "1              103             16.62                254.4                103   \n",
      "2              110             10.30                162.6                104   \n",
      "3               88              5.26                196.9                 89   \n",
      "4              122             12.61                186.9                121   \n",
      "\n",
      "   total_night_charge  total_intl_minutes  total_intl_calls  \\\n",
      "0               11.01                10.0                 3   \n",
      "1               11.45                13.7                 3   \n",
      "2                7.32                12.2                 5   \n",
      "3                8.86                 6.6                 7   \n",
      "4                8.41                10.1                 3   \n",
      "\n",
      "   total_intl_charge  number_customer_service_calls  churned  \n",
      "0               2.70                              1    False  \n",
      "1               3.70                              1    False  \n",
      "2               3.29                              0    False  \n",
      "3               1.78                              2    False  \n",
      "4               2.73                              3    False  \n"
     ]
    }
   ],
   "source": [
    "print(\"\\nDataset after dropping 'state', 'area_code', and 'phone_number' columns:\")\n",
    "print(df.head())"
   ]
  },
  {
   "cell_type": "markdown",
   "metadata": {},
   "source": [
    "## Question 2\n",
    "\n",
    "* Notice that some of the columns are categorical data and some are floats. These features will need to be numerically encoded using one of the methods from the lecture.\n",
    "* Finally, remember from the lecture that K-nearest neighbors requires scaled data. Scale the data using one of the scaling methods discussed in the lecture."
   ]
  },
  {
   "cell_type": "code",
   "execution_count": 6,
   "metadata": {
    "ExecuteTime": {
     "end_time": "2024-02-20T04:45:00.319520100Z",
     "start_time": "2024-02-20T04:45:00.298540600Z"
    }
   },
   "outputs": [
    {
     "name": "stdout",
     "output_type": "stream",
     "text": [
      "\n",
      "Dataset after encoding categorical features:\n",
      "   account_length  intl_plan  voice_mail_plan  number_vmail_messages  \\\n",
      "0             128          0                1                     25   \n",
      "1             107          0                1                     26   \n",
      "2             137          0                0                      0   \n",
      "3              84          1                0                      0   \n",
      "4              75          1                0                      0   \n",
      "\n",
      "   total_day_minutes  total_day_calls  total_day_charge  total_eve_minutes  \\\n",
      "0              265.1              110             45.07              197.4   \n",
      "1              161.6              123             27.47              195.5   \n",
      "2              243.4              114             41.38              121.2   \n",
      "3              299.4               71             50.90               61.9   \n",
      "4              166.7              113             28.34              148.3   \n",
      "\n",
      "   total_eve_calls  total_eve_charge  total_night_minutes  total_night_calls  \\\n",
      "0               99             16.78                244.7                 91   \n",
      "1              103             16.62                254.4                103   \n",
      "2              110             10.30                162.6                104   \n",
      "3               88              5.26                196.9                 89   \n",
      "4              122             12.61                186.9                121   \n",
      "\n",
      "   total_night_charge  total_intl_minutes  total_intl_calls  \\\n",
      "0               11.01                10.0                 3   \n",
      "1               11.45                13.7                 3   \n",
      "2                7.32                12.2                 5   \n",
      "3                8.86                 6.6                 7   \n",
      "4                8.41                10.1                 3   \n",
      "\n",
      "   total_intl_charge  number_customer_service_calls  churned  \n",
      "0               2.70                              1        0  \n",
      "1               3.70                              1        0  \n",
      "2               3.29                              0        0  \n",
      "3               1.78                              2        0  \n",
      "4               2.73                              3        0  \n"
     ]
    }
   ],
   "source": [
    "label_binarizer = LabelBinarizer()\n",
    "\n",
    "categorical_columns = ['intl_plan', 'voice_mail_plan', 'churned']\n",
    "for column in categorical_columns:\n",
    "    df[column] = label_binarizer.fit_transform(df[column])\n",
    "\n",
    "print(\"\\nDataset after encoding categorical features:\")\n",
    "print(df.head())"
   ]
  },
  {
   "cell_type": "code",
   "execution_count": 7,
   "metadata": {
    "ExecuteTime": {
     "end_time": "2024-02-20T04:45:00.409603100Z",
     "start_time": "2024-02-20T04:45:00.319520100Z"
    },
    "collapsed": false
   },
   "outputs": [
    {
     "name": "stdout",
     "output_type": "stream",
     "text": [
      "\n",
      "Dataset after scaling features:\n",
      "   account_length  intl_plan  voice_mail_plan  number_vmail_messages  \\\n",
      "0        0.524793        0.0              1.0               0.480769   \n",
      "1        0.438017        0.0              1.0               0.500000   \n",
      "2        0.561983        0.0              0.0               0.000000   \n",
      "3        0.342975        1.0              0.0               0.000000   \n",
      "4        0.305785        1.0              0.0               0.000000   \n",
      "\n",
      "   total_day_minutes  total_day_calls  total_day_charge  total_eve_minutes  \\\n",
      "0           0.754196         0.666667          0.754183           0.542755   \n",
      "1           0.459744         0.745455          0.459672           0.537531   \n",
      "2           0.692461         0.690909          0.692436           0.333242   \n",
      "3           0.851778         0.430303          0.851740           0.170195   \n",
      "4           0.474253         0.684848          0.474230           0.407754   \n",
      "\n",
      "   total_eve_calls  total_eve_charge  total_night_minutes  total_night_calls  \\\n",
      "0         0.582353          0.542866             0.619494           0.520000   \n",
      "1         0.605882          0.537690             0.644051           0.588571   \n",
      "2         0.647059          0.333225             0.411646           0.594286   \n",
      "3         0.517647          0.170171             0.498481           0.508571   \n",
      "4         0.717647          0.407959             0.473165           0.691429   \n",
      "\n",
      "   total_night_charge  total_intl_minutes  total_intl_calls  \\\n",
      "0            0.619584               0.500              0.15   \n",
      "1            0.644344               0.685              0.15   \n",
      "2            0.411930               0.610              0.25   \n",
      "3            0.498593               0.330              0.35   \n",
      "4            0.473270               0.505              0.15   \n",
      "\n",
      "   total_intl_charge  number_customer_service_calls  churned  \n",
      "0           0.500000                       0.111111        0  \n",
      "1           0.685185                       0.111111        0  \n",
      "2           0.609259                       0.000000        0  \n",
      "3           0.329630                       0.222222        0  \n",
      "4           0.505556                       0.333333        0  \n"
     ]
    }
   ],
   "source": [
    "scaler = MinMaxScaler()\n",
    "scaled_features = scaler.fit_transform(df.drop(columns=['churned']))\n",
    "\n",
    "scaled_df = pd.DataFrame(scaled_features, columns=df.columns[:-1])  # Exclude the target variable\n",
    "scaled_df['churned'] = df['churned']\n",
    "\n",
    "print(\"\\nDataset after scaling features:\")\n",
    "print(scaled_df.head())"
   ]
  },
  {
   "cell_type": "markdown",
   "metadata": {},
   "source": [
    "## Question 3\n",
    "\n",
    "* Separate the feature columns (everything except `churned`) from the label (`churned`). This will create two tables.\n",
    "* Fit a K-nearest neighbors model with a value of `k=3` to this data and predict the outcome on the same data."
   ]
  },
  {
   "cell_type": "code",
   "execution_count": 8,
   "metadata": {
    "ExecuteTime": {
     "end_time": "2024-02-20T04:45:00.410606700Z",
     "start_time": "2024-02-20T04:45:00.389134700Z"
    }
   },
   "outputs": [],
   "source": [
    "X = scaled_df.drop(columns=['churned'])\n",
    "y = scaled_df['churned']"
   ]
  },
  {
   "cell_type": "code",
   "execution_count": 9,
   "metadata": {
    "ExecuteTime": {
     "end_time": "2024-02-20T04:45:00.411212200Z",
     "start_time": "2024-02-20T04:45:00.394844700Z"
    },
    "collapsed": false
   },
   "outputs": [
    {
     "name": "stdout",
     "output_type": "stream",
     "text": [
      "\n",
      "Predicted outcomes on the same data:\n",
      "   Actual Churned  Predicted Churned\n",
      "0               0                  0\n",
      "1               0                  0\n",
      "2               0                  0\n",
      "3               0                  0\n",
      "4               0                  0\n"
     ]
    }
   ],
   "source": [
    "knn_model = KNeighborsClassifier(n_neighbors=3)\n",
    "knn_model.fit(X, y)\n",
    "\n",
    "y_pred = knn_model.predict(X)\n",
    "\n",
    "predicted_df = pd.DataFrame({'Actual Churned': y, 'Predicted Churned': y_pred})\n",
    "print(\"\\nPredicted outcomes on the same data:\")\n",
    "print(predicted_df.head())"
   ]
  },
  {
   "cell_type": "markdown",
   "metadata": {},
   "source": [
    "## Question 4\n",
    "\n",
    "Ways to measure error haven't been discussed in class yet, but accuracy is an easy one to understand--it is simply the percent of labels that were correctly predicted (either true or false). \n",
    "\n",
    "* Write a function to calculate accuracy using the actual and predicted labels.\n",
    "* Using the function, calculate the accuracy of this K-nearest neighbors model on the data."
   ]
  },
  {
   "cell_type": "code",
   "execution_count": 10,
   "metadata": {
    "ExecuteTime": {
     "end_time": "2024-02-20T04:45:00.437779800Z",
     "start_time": "2024-02-20T04:45:00.410606700Z"
    }
   },
   "outputs": [],
   "source": [
    "def calculate_accuracy(actual, predicted):\n",
    "    \"\"\"\n",
    "    Calculate accuracy given the actual and predicted labels.\n",
    "    \n",
    "    Parameters:\n",
    "    - actual: Actual labels\n",
    "    - predicted: Predicted labels\n",
    "    \n",
    "    Returns:\n",
    "    - accuracy: Accuracy score\n",
    "    \"\"\"\n",
    "    correct_predictions = np.sum(actual == predicted)\n",
    "    total_predictions = len(actual)\n",
    "    accuracy = correct_predictions / total_predictions\n",
    "    return accuracy"
   ]
  },
  {
   "cell_type": "code",
   "execution_count": 11,
   "metadata": {
    "ExecuteTime": {
     "end_time": "2024-02-20T04:45:00.438782Z",
     "start_time": "2024-02-20T04:45:00.413727300Z"
    },
    "collapsed": false
   },
   "outputs": [
    {
     "name": "stdout",
     "output_type": "stream",
     "text": [
      "\n",
      "Accuracy of the K-nearest neighbors model: 94.22%\n"
     ]
    }
   ],
   "source": [
    "accuracy = calculate_accuracy(y, y_pred)\n",
    "\n",
    "print(f\"\\nAccuracy of the K-nearest neighbors model: {accuracy:.2%}\")"
   ]
  },
  {
   "cell_type": "markdown",
   "metadata": {},
   "source": [
    "## Question 5\n",
    "\n",
    "* Fit the K-nearest neighbors model again with `n_neighbors=3` but this time use distance for the weights. Calculate the accuracy using the function you created above. \n",
    "* Fit another K-nearest neighbors model. This time use uniform weights but set the power parameter for the Minkowski distance metric to be 1 (`p=1`) i.e. Manhattan Distance.\n",
    "\n",
    "When weighted distances are used for part 1 of this question, a value of 1.0 should be returned for the accuracy. Why do you think this is? *Hint:* we are predicting on the data and with KNN the model *is* the data. We will learn how to avoid this pitfall in the next lecture."
   ]
  },
  {
   "cell_type": "code",
   "execution_count": 12,
   "metadata": {
    "ExecuteTime": {
     "end_time": "2024-02-20T04:45:00.438782Z",
     "start_time": "2024-02-20T04:45:00.420107300Z"
    }
   },
   "outputs": [
    {
     "name": "stdout",
     "output_type": "stream",
     "text": [
      "\n",
      "Accuracy with distance weights: 96.48%\n"
     ]
    }
   ],
   "source": [
    "knn_distance_model = KNeighborsClassifier(n_neighbors=3, weights='distance')\n",
    "knn_distance_model.fit(X, y)\n",
    "y_pred_distance = knn_distance_model.predict(X)\n",
    "\n",
    "accuracy_distance = calculate_accuracy(y, y_pred_distance)\n",
    "print(f\"\\nAccuracy with distance weights: {accuracy_distance:.2%}\")"
   ]
  },
  {
   "cell_type": "code",
   "execution_count": 13,
   "metadata": {
    "ExecuteTime": {
     "end_time": "2024-02-20T04:45:00.520351Z",
     "start_time": "2024-02-20T04:45:00.434778500Z"
    },
    "collapsed": false
   },
   "outputs": [
    {
     "name": "stdout",
     "output_type": "stream",
     "text": [
      "Accuracy with uniform weights and Manhattan distance: 94.56%\n"
     ]
    }
   ],
   "source": [
    "knn_uniform_manhattan_model = KNeighborsClassifier(n_neighbors=3, weights='uniform', p=1)\n",
    "knn_uniform_manhattan_model.fit(X, y)\n",
    "y_pred_uniform_manhattan = knn_uniform_manhattan_model.predict(X)\n",
    "\n",
    "accuracy_uniform_manhattan = calculate_accuracy(y, y_pred_uniform_manhattan)\n",
    "print(f\"Accuracy with uniform weights and Manhattan distance: {accuracy_uniform_manhattan:.2%}\")"
   ]
  },
  {
   "cell_type": "markdown",
   "metadata": {},
   "source": [
    "## Question 6\n",
    "\n",
    "* Fit a K-nearest neighbors model using values of `k` (`n_neighbors`) ranging from 1 to 20. Use uniform weights (the default). The coefficient for the Minkowski distance (`p`) can be set to either 1 or 2--just be consistent. Store the accuracy and the value of `k` used from each of these fits in a list or dictionary.\n",
    "* Plot (or view the table of) the `accuracy` vs `k`. What do you notice happens when `k=1`? Why do you think this is? *Hint:* it's for the same reason discussed above."
   ]
  },
  {
   "cell_type": "code",
   "execution_count": 14,
   "metadata": {
    "ExecuteTime": {
     "end_time": "2024-02-20T04:45:00.972434500Z",
     "start_time": "2024-02-20T04:45:00.465347500Z"
    }
   },
   "outputs": [],
   "source": [
    "import matplotlib.pyplot as plt\n",
    "\n",
    "accuracy_list = []\n",
    "k_values = list(range(1, 21))\n",
    "\n",
    "for k in k_values:\n",
    "    knn_model = KNeighborsClassifier(n_neighbors=k)\n",
    "    knn_model.fit(X, y)\n",
    "    y_pred_k = knn_model.predict(X)\n",
    "    accuracy_k = calculate_accuracy(y, y_pred_k)\n",
    "    accuracy_list.append(accuracy_k)"
   ]
  },
  {
   "cell_type": "code",
   "execution_count": 1,
   "metadata": {
    "ExecuteTime": {
     "end_time": "2024-02-20T04:45:01.087195800Z",
     "start_time": "2024-02-20T04:45:00.974433600Z"
    },
    "collapsed": false
   },
   "outputs": [
    {
     "ename": "NameError",
     "evalue": "name 'plt' is not defined",
     "output_type": "error",
     "traceback": [
      "\u001b[1;31m---------------------------------------------------------------------------\u001b[0m",
      "\u001b[1;31mNameError\u001b[0m                                 Traceback (most recent call last)",
      "Cell \u001b[1;32mIn[1], line 2\u001b[0m\n\u001b[0;32m      1\u001b[0m \u001b[38;5;66;03m# Plot accuracy vs k\u001b[39;00m\n\u001b[1;32m----> 2\u001b[0m \u001b[43mplt\u001b[49m\u001b[38;5;241m.\u001b[39mplot(k_values, accuracy_list, marker\u001b[38;5;241m=\u001b[39m\u001b[38;5;124m'\u001b[39m\u001b[38;5;124mo\u001b[39m\u001b[38;5;124m'\u001b[39m)\n\u001b[0;32m      3\u001b[0m plt\u001b[38;5;241m.\u001b[39mtitle(\u001b[38;5;124m'\u001b[39m\u001b[38;5;124mAccuracy vs k in K-near\u001b[39m\u001b[38;5;124m'\u001b[39m)\n\u001b[0;32m      4\u001b[0m plt\u001b[38;5;241m.\u001b[39mxlabel(\u001b[38;5;124m'\u001b[39m\u001b[38;5;124mk (Neighbors)\u001b[39m\u001b[38;5;124m'\u001b[39m)\n",
      "\u001b[1;31mNameError\u001b[0m: name 'plt' is not defined"
     ]
    }
   ],
   "source": [
    "# Plot accuracy vs k\n",
    "plt.plot(k_values, accuracy_list, marker='o')\n",
    "plt.title('Accuracy vs k in K-near')\n",
    "plt.xlabel('k (Neighbors)')\n",
    "plt.ylabel('Accuracy')\n",
    "plt.grid(True)\n",
    "plt.show()"
   ]
  }
 ],
 "metadata": {
  "anaconda-cloud": {},
  "kernelspec": {
   "display_name": "Python 3 (ipykernel)",
   "language": "python",
   "name": "python3"
  },
  "language_info": {
   "codemirror_mode": {
    "name": "ipython",
    "version": 3
   },
   "file_extension": ".py",
   "mimetype": "text/x-python",
   "name": "python",
   "nbconvert_exporter": "python",
   "pygments_lexer": "ipython3",
   "version": "3.12.0"
  },
  "name": "Linear_Regression_and_K_Nearest_Neighbors_Exercises-ANSWERS",
  "notebookId": 2125319687183902
 },
 "nbformat": 4,
 "nbformat_minor": 4
}
